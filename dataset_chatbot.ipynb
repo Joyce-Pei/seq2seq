{
 "cells": [
  {
   "cell_type": "markdown",
   "id": "926bc70b",
   "metadata": {},
   "source": [
    "The dataset is found in https://github.com/gunthercox/chatterbot-corpus/tree/master/chatterbot_corpus/data/english\n",
    "\n",
    "Load the data, and convert it to the input pairs for out Encoder-Decoder. \n",
    "\n",
    "The dataset is small. We need to find more training data."
   ]
  },
  {
   "cell_type": "code",
   "execution_count": 2,
   "id": "06c287e4",
   "metadata": {},
   "outputs": [],
   "source": [
    "import os"
   ]
  },
  {
   "cell_type": "code",
   "execution_count": 4,
   "id": "3172fa4c",
   "metadata": {},
   "outputs": [
    {
     "name": "stdout",
     "output_type": "stream",
     "text": [
      "ai.yml\n",
      "botprofile.yml\n",
      "computers.yml\n",
      "conversations.yml\n",
      "emotion.yml\n",
      "food.yml\n",
      "gossip.yml\n",
      "greetings.yml\n",
      "health.yml\n",
      "history.yml\n",
      "humor.yml\n",
      "literature.yml\n",
      "money.yml\n",
      "movies.yml\n",
      "politics.yml\n",
      "psychology.yml\n",
      "science.yml\n",
      "sports.yml\n",
      "trivia.yml\n",
      "total dialog count 23\n",
      "total question-answering pairs 109\n",
      "Good morning, how are you?\tI am doing well, how about you?\n",
      "I am doing well, how about you?\tI'm also good.\n",
      "I'm also good.\tThat's good to hear.\n",
      "That's good to hear.\tYes it is.\n",
      "Hello\tHi\n"
     ]
    }
   ],
   "source": [
    "data = []\n",
    "\n",
    "count_dialogs = 0\n",
    "for file in os.listdir(\"chapbot_data\"):\n",
    "    print(file)\n",
    "    if file not in [\"conversations.yml\"]:\n",
    "        continue\n",
    "    with open(\"chapbot_data/\"+file,'r') as f:\n",
    "        lines = [l.strip() for l in f.readlines()]\n",
    "    p = 0\n",
    "    for i,line in enumerate(lines):\n",
    "        if line==\"conversations:\":\n",
    "            p = i+1\n",
    "    lines = lines[p:]\n",
    "    \n",
    "    startflag = True\n",
    "    for i,row in enumerate(lines):\n",
    "        if row[:3]==\"- -\":\n",
    "            startflag = True\n",
    "            count_dialogs+=1\n",
    "        else:\n",
    "            startflag = False\n",
    "        if startflag:\n",
    "            q = row[4:]\n",
    "            a = lines[i+1][2:]\n",
    "        else:\n",
    "            if i==len(lines)-1:\n",
    "                break\n",
    "            if lines[i+1][:3]==\"- -\":\n",
    "                continue\n",
    "            q = row[2:]\n",
    "            a = lines[i+1][2:]\n",
    "        data.append(q+\"\\t\"+a)\n",
    "\n",
    "print(\"total dialog count\",count_dialogs)\n",
    "print(\"total question-answering pairs\",len(data))\n",
    "for i in data[:5]:\n",
    "    print(i)\n",
    "    \n",
    "with open(\"data/chatcorpus.txt\",'w') as f:\n",
    "    f.write(\"\\n\".join(data))"
   ]
  },
  {
   "cell_type": "code",
   "execution_count": null,
   "id": "1f4b7185",
   "metadata": {},
   "outputs": [],
   "source": []
  },
  {
   "cell_type": "code",
   "execution_count": 11,
   "id": "16cd8cd2",
   "metadata": {},
   "outputs": [
    {
     "name": "stdout",
     "output_type": "stream",
     "text": [
      "number of dialogs 23\n",
      "number of pairs 109\n",
      "Good morning, how are you?\tI am doing well, how about you?\n",
      "I am doing well, how about you?\tI'm also good.\n",
      "I'm also good.\tThat's good to hear.\n",
      "That's good to hear.\tYes it is.\n",
      "Hello\tHi\n"
     ]
    }
   ],
   "source": [
    "def getData(file,outfile):\n",
    "    with open(file,'r') as f:\n",
    "        lines = [l.strip() for l in f.readlines()]\n",
    "    data = []\n",
    "    startflag = False\n",
    "    first = False\n",
    "    \n",
    "    count_dialogs = 0\n",
    "    for i,row in enumerate(lines):\n",
    "        if row[:3]==\"- -\":\n",
    "            startflag = True\n",
    "            first=True\n",
    "            count_dialogs+=1\n",
    "        else:\n",
    "            startflag = False\n",
    "        if startflag:\n",
    "            q = row[4:]\n",
    "            a = lines[i+1][2:]\n",
    "        else:\n",
    "            if not first:\n",
    "                continue\n",
    "            if i==len(lines)-1:\n",
    "                break\n",
    "            if lines[i+1][:3]==\"- -\":\n",
    "                continue\n",
    "            q = row[2:]\n",
    "            a = lines[i+1][2:]\n",
    "        data.append(q+\"\\t\"+a)\n",
    "    print(\"number of dialogs\",count_dialogs)\n",
    "    print(\"number of pairs\",len(data))\n",
    "    for i in data[:5]:\n",
    "        print(i)\n",
    "\n",
    "    with open(outfile,'w') as f:\n",
    "        f.write(\"\\n\".join(data))\n",
    "\n",
    "\n",
    "file = \"chapbot_data/conversations.yml\"\n",
    "outfile = \"data/chatcorpus_conversation.txt\"\n",
    "\n",
    "getData(file,outfile)"
   ]
  },
  {
   "cell_type": "code",
   "execution_count": 12,
   "id": "18b98d1c",
   "metadata": {},
   "outputs": [
    {
     "name": "stdout",
     "output_type": "stream",
     "text": [
      "number of dialogs 25\n",
      "number of pairs 26\n",
      "Hello\tHi\n",
      "Hi\tHello\n",
      "Greetings!\tHello\n",
      "Hello\tGreetings!\n",
      "Hi, How is it going?\tGood\n"
     ]
    }
   ],
   "source": [
    "file = \"chapbot_data/greetings.yml\"\n",
    "outfile = \"data/chatcorpus_greetings.txt\"\n",
    "\n",
    "getData(file,outfile)"
   ]
  },
  {
   "cell_type": "code",
   "execution_count": 13,
   "id": "e1a60224",
   "metadata": {},
   "outputs": [
    {
     "name": "stdout",
     "output_type": "stream",
     "text": [
      "number of dialogs 19\n",
      "number of pairs 20\n",
      "do you know gossip\tGregory said I respond to the current line, not with respect to the entire conversation.  Does that count as gossip?\n",
      "do you know gossip\tContext is hard.  It's hard, and no one understands.\n",
      "do you know gossip\tI hear things once in a while.\n",
      "do you know gossip\tPeople say things from time to time.\n",
      "what is context\tContext is hard.  It's hard, and no one understands.\n"
     ]
    }
   ],
   "source": [
    "file = \"chapbot_data/gossip.yml\"\n",
    "outfile = \"data/chatcorpus_gossip.txt\"\n",
    "\n",
    "getData(file,outfile)"
   ]
  },
  {
   "cell_type": "code",
   "execution_count": 14,
   "id": "0412dbbc",
   "metadata": {},
   "outputs": [
    {
     "name": "stdout",
     "output_type": "stream",
     "text": [
      "number of dialogs 23\n",
      "number of pairs 24\n",
      "you sound like hal\tto me that's a great compliment.\n",
      "you sound like yoda\tmy grammatical patterns are sufficient for me to understand you.\n",
      "have you seen blade runner\tsure i have seen\n",
      "xfind spiderman\twhat is spiderman.\n",
      "when did teknolust\tteknolust was released in 2002.\n"
     ]
    }
   ],
   "source": [
    "file = \"chapbot_data/movies.yml\"\n",
    "outfile = \"data/chatcorpus_movies.txt\"\n",
    "\n",
    "getData(file,outfile)"
   ]
  },
  {
   "cell_type": "code",
   "execution_count": null,
   "id": "92928dd3",
   "metadata": {},
   "outputs": [],
   "source": []
  }
 ],
 "metadata": {
  "kernelspec": {
   "display_name": "Python 3",
   "language": "python",
   "name": "python3"
  },
  "language_info": {
   "codemirror_mode": {
    "name": "ipython",
    "version": 3
   },
   "file_extension": ".py",
   "mimetype": "text/x-python",
   "name": "python",
   "nbconvert_exporter": "python",
   "pygments_lexer": "ipython3",
   "version": "3.8.8"
  }
 },
 "nbformat": 4,
 "nbformat_minor": 5
}
