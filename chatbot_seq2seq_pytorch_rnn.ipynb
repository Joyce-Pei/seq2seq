{
 "cells": [
  {
   "cell_type": "code",
   "execution_count": 1,
   "metadata": {},
   "outputs": [
    {
     "data": {
      "text/plain": [
       "device(type='cuda')"
      ]
     },
     "execution_count": 1,
     "metadata": {},
     "output_type": "execute_result"
    }
   ],
   "source": [
    "from __future__ import unicode_literals, print_function, division\n",
    "from io import open\n",
    "import unicodedata\n",
    "import string\n",
    "import re\n",
    "import gc\n",
    "import numpy as np\n",
    "\n",
    "import matplotlib.pyplot as plt\n",
    "\n",
    "\n",
    "import torch\n",
    "import torch.nn as nn\n",
    "from torch import optim\n",
    "import torch.nn.functional as F\n",
    "\n",
    "device = torch.device(\"cuda\" if torch.cuda.is_available() else \"cpu\")\n",
    "device"
   ]
  },
  {
   "cell_type": "code",
   "execution_count": 2,
   "metadata": {},
   "outputs": [],
   "source": [
    "wordcount_thres =1\n",
    "hidden_size = 100"
   ]
  },
  {
   "cell_type": "code",
   "execution_count": 3,
   "metadata": {},
   "outputs": [
    {
     "name": "stdout",
     "output_type": "stream",
     "text": [
      "number of question-answer pairs: 109\n",
      "89 89\n",
      "encoder vocabulary_size: 210\n",
      "decoder vocabulary_size: 243\n"
     ]
    },
    {
     "data": {
      "text/plain": [
       "0"
      ]
     },
     "execution_count": 3,
     "metadata": {},
     "output_type": "execute_result"
    }
   ],
   "source": [
    "lines = open('data/chatcorpus.txt', encoding='utf-8',\n",
    "             errors='ignore').read().split('\\n')\n",
    "\n",
    "#define split\n",
    "def mysplit(txt):\n",
    "    txt = clean_text(txt)\n",
    "    tokens = re.findall(r'\\w+|[^\\s\\w]+', txt)\n",
    "    return [t for t in tokens if t!=\"\"]\n",
    "    \n",
    "#remove abbreviations\n",
    "def clean_text(txt):\n",
    "    txt = txt.lower()\n",
    "    txt = re.sub(r\"i'm\", \"i am\", txt)\n",
    "    txt = re.sub(r\"he's\", \"he is\", txt)\n",
    "    txt = re.sub(r\"she's\", \"she is\", txt)\n",
    "    txt = re.sub(r\"that's\", \"that is\", txt)\n",
    "    txt = re.sub(r\"what's\", \"what is\", txt)\n",
    "    txt = re.sub(r\"where's\", \"where is\", txt)\n",
    "    txt = re.sub(r\"\\'ll\", \" will\", txt)\n",
    "    txt = re.sub(r\"\\'ve\", \" have\", txt)\n",
    "    txt = re.sub(r\"\\'re\", \" are\", txt)\n",
    "    txt = re.sub(r\"\\'d\", \" would\", txt)\n",
    "    txt = re.sub(r\"won't\", \"will not\", txt)\n",
    "    txt = re.sub(r\"can't\", \"can not\", txt)\n",
    "    txt = re.sub(r\"[^\\w\\s]\", \"\", txt)\n",
    "    return txt\n",
    "\n",
    "questions = []\n",
    "answers = []\n",
    "for line in lines:\n",
    "    line = line.split(\"\\t\")\n",
    "    ques = mysplit(line[0])\n",
    "    ans = mysplit(line[1])\n",
    "    questions.append(ques)\n",
    "    answers.append(ans)\n",
    "print(\"number of question-answer pairs:\",len(questions))\n",
    "\n",
    "ntrain_samples =  len(questions)-20 #use 20 samples for testing\n",
    "max_len = max([len(q) for q in questions])\n",
    "np.random.seed(0)\n",
    "inds = np.random.choice(len(questions),20,replace=False)\n",
    "test_questions = [questions[i] for i in inds]\n",
    "test_answers = [answers[i] for i in inds]\n",
    "questions=[questions[i] for i in range(len(questions)) if i not in inds]\n",
    "answers=[answers[i] for i in range(len(answers)) if i not in inds]\n",
    "print(len(questions),ntrain_samples)\n",
    "\n",
    "#encoder\n",
    "# get vocabulary\n",
    "wordcount = {}\n",
    "for line in questions:\n",
    "    for word in line:\n",
    "        wordcount[word] = wordcount.get(word,0)+1\n",
    "vocabulary = [w for w,c in wordcount.items() if c>=wordcount_thres]\n",
    "vocabulary = ['<EOS>', '<OUT>']+vocabulary #add tokens\n",
    "vocab={}\n",
    "i = len(vocab)\n",
    "for token in vocabulary:\n",
    "    vocab[token] = i\n",
    "    i += 1\n",
    "VOCAB_SIZE = len(vocab)\n",
    "print(\"encoder vocabulary_size:\",VOCAB_SIZE)  \n",
    "\n",
    "#decoding\n",
    "vocabulary=set()\n",
    "for line in answers:\n",
    "    vocabulary.update(line)\n",
    "vocabulary = list(vocabulary)\n",
    "vocabulary = ['<SOS>', '<EOS>']+vocabulary #add tokens\n",
    "dec_vocab={w:i for i,w in enumerate(vocabulary)}\n",
    "DEC_VOCAB_SIZE = len(vocabulary)\n",
    "print(\"decoder vocabulary_size:\",DEC_VOCAB_SIZE)  \n",
    "inv_vocab = {i:w for w,i in dec_vocab.items()}#for decoding\n",
    "\n",
    "\n",
    "def get_encoderinput(questions):\n",
    "    encoder_inp = []\n",
    "    for line in questions:\n",
    "        lst = []\n",
    "        for word in line:\n",
    "            if word not in vocab:\n",
    "                lst.append(vocab['<OUT>'])\n",
    "            else:\n",
    "                lst.append(vocab[word])\n",
    "        lst = torch.tensor(lst, dtype=torch.long, device=device).view(-1, 1)\n",
    "        encoder_inp.append(lst)\n",
    "    return encoder_inp\n",
    "encoder_inp = get_encoderinput(questions)\n",
    "\n",
    "def get_decoderinput(answers):\n",
    "    decoder_inp = []\n",
    "    for line in answers:\n",
    "        lst = [] #vocab[\"<SOS>\"]\n",
    "        for word in line:\n",
    "            lst.append(dec_vocab[word]) \n",
    "        lst.append(dec_vocab[\"<EOS>\"])\n",
    "        lst = torch.tensor(lst, dtype=torch.long, device=device).view(-1, 1)\n",
    "        decoder_inp.append(lst)\n",
    "    return decoder_inp\n",
    "decoder_inp = get_decoderinput(answers)\n",
    "\n",
    "# save memory space\n",
    "gc.collect()  "
   ]
  },
  {
   "cell_type": "code",
   "execution_count": 4,
   "metadata": {},
   "outputs": [
    {
     "data": {
      "text/plain": [
       "(89, 89)"
      ]
     },
     "execution_count": 4,
     "metadata": {},
     "output_type": "execute_result"
    }
   ],
   "source": [
    "len(encoder_inp),len(decoder_inp)"
   ]
  },
  {
   "cell_type": "code",
   "execution_count": 5,
   "metadata": {},
   "outputs": [
    {
     "data": {
      "image/png": "[encoded data removed]",
      "text/plain": [
       "<Figure size 432x288 with 2 Axes>"
      ]
     },
     "metadata": {
      "needs_background": "light"
     },
     "output_type": "display_data"
    }
   ],
   "source": [
    "ques_len = [len(q) for q in test_questions]\n",
    "ans_len = [len(a) for a in test_answers]\n",
    "\n",
    "plt.figure()\n",
    "plt.subplot(1,2,1)\n",
    "plt.hist(ques_len,bins=10)\n",
    "plt.subplot(1,2,2)\n",
    "plt.hist(ans_len,bins=10)\n",
    "plt.show()"
   ]
  },
  {
   "cell_type": "code",
   "execution_count": 6,
   "metadata": {},
   "outputs": [],
   "source": [
    "import time\n",
    "import math\n",
    "\n",
    "\n",
    "def asMinutes(s):\n",
    "    m = math.floor(s / 60)\n",
    "    s -= m * 60\n",
    "    return '%dm %ds' % (m, s)\n",
    "\n",
    "\n",
    "def timeSince(since, percent):\n",
    "    now = time.time()\n",
    "    s = now - since\n",
    "    es = s / (percent)\n",
    "    rs = es - s\n",
    "    return '%s (- %s)' % (asMinutes(s), asMinutes(rs))"
   ]
  },
  {
   "cell_type": "code",
   "execution_count": 7,
   "metadata": {},
   "outputs": [],
   "source": [
    "class EncoderRNN(nn.Module):\n",
    "    def __init__(self, input_size, hidden_size):\n",
    "        super(EncoderRNN, self).__init__()\n",
    "        self.hidden_size = hidden_size\n",
    "\n",
    "        self.embedding = nn.Embedding(input_size, hidden_size)\n",
    "        if rnn==\"RNN\":\n",
    "            self.rnn = nn.RNN(hidden_size, hidden_size, batch_first=True)\n",
    "        elif rnn==\"GRU\":\n",
    "            self.rnn = nn.GRU(hidden_size, hidden_size, batch_first=True)\n",
    "        else:\n",
    "            self.rnn = nn.LSTM(hidden_size, hidden_size, batch_first=True)\n",
    "\n",
    "    def forward(self, input, hidden, cell=None):\n",
    "        embedded = self.embedding(input).view(1, 1, -1)\n",
    "        output = embedded\n",
    "        if rnn in [\"RNN\",\"GRU\"]:\n",
    "            output, hidden = self.rnn(output, hidden)\n",
    "            return output, hidden\n",
    "        else:\n",
    "            output, (hidden, cell) = self.rnn(output, (hidden, cell))\n",
    "            return output, (hidden, cell) \n",
    "\n",
    "    def initHidden(self):\n",
    "        return torch.zeros(1, 1, self.hidden_size, device=device)\n",
    "    \n",
    "class DecoderRNN(nn.Module):\n",
    "    def __init__(self, hidden_size, output_size):\n",
    "        super(DecoderRNN, self).__init__()\n",
    "        self.hidden_size = hidden_size\n",
    "\n",
    "        self.embedding = nn.Embedding(output_size, hidden_size)\n",
    "        if rnn==\"RNN\":\n",
    "            self.rnn = nn.RNN(hidden_size, hidden_size, batch_first=True)\n",
    "        elif rnn==\"GRU\":\n",
    "            self.rnn = nn.GRU(hidden_size, hidden_size, batch_first=True)\n",
    "        else:\n",
    "            self.rnn = nn.LSTM(hidden_size, hidden_size, batch_first=True)\n",
    "        self.out = nn.Linear(hidden_size, output_size)\n",
    "        self.softmax = nn.LogSoftmax(dim=1)\n",
    "\n",
    "    def forward(self, input, hidden, cell=None):\n",
    "        output = self.embedding(input).view(1, 1, -1)\n",
    "        output = F.relu(output)\n",
    "        if rnn in [\"RNN\",\"GRU\"]:\n",
    "            output, hidden = self.rnn(output, hidden)\n",
    "            output = self.softmax(self.out(output[0]))\n",
    "            return output, hidden\n",
    "        else:\n",
    "            output, (hidden, cell) = self.rnn(output, (hidden, cell))\n",
    "            output = self.softmax(self.out(output[0]))\n",
    "            return output, (hidden, cell) \n",
    "\n",
    "    def initHidden(self):\n",
    "        return torch.zeros(1, 1, self.hidden_size, device=device)\n",
    "    \n",
    "class AttnDecoderRNN(nn.Module):\n",
    "    def __init__(self, hidden_size, output_size, dropout_p=0.1, max_length=max_len):\n",
    "        super(AttnDecoderRNN, self).__init__()\n",
    "        self.hidden_size = hidden_size\n",
    "        self.output_size = output_size\n",
    "        self.dropout_p = dropout_p\n",
    "        self.max_length = max_length\n",
    "\n",
    "        self.embedding = nn.Embedding(self.output_size, self.hidden_size)\n",
    "        self.attn = nn.Linear(self.hidden_size * 2, self.max_length)\n",
    "        self.attn_combine = nn.Linear(self.hidden_size * 2, self.hidden_size)\n",
    "        self.dropout = nn.Dropout(self.dropout_p)\n",
    "        self.gru = nn.RNN(self.hidden_size, self.hidden_size, batch_first=True)\n",
    "        if rnn==\"RNN\":\n",
    "            self.rnn = nn.RNN(self.hidden_size, self.hidden_size, batch_first=True)\n",
    "        elif rnn==\"GRU\":\n",
    "            self.rnn = nn.GRU(self.hidden_size, self.hidden_size, batch_first=True)\n",
    "        else:\n",
    "            self.rnn = nn.LSTM(self.hidden_size, self.hidden_size, batch_first=True)\n",
    "            \n",
    "        self.out = nn.Linear(self.hidden_size, self.output_size)\n",
    "\n",
    "    def forward(self, input, hidden, encoder_outputs, cell=None):\n",
    "        embedded = self.embedding(input).view(1, 1, -1)\n",
    "        embedded = self.dropout(embedded)\n",
    "\n",
    "        attn_weights = F.softmax(\n",
    "            self.attn(torch.cat((embedded[0], hidden[0]), 1)), dim=1)\n",
    "        attn_applied = torch.bmm(attn_weights.unsqueeze(0),\n",
    "                                 encoder_outputs.unsqueeze(0))\n",
    "\n",
    "        output = torch.cat((embedded[0], attn_applied[0]), 1)\n",
    "        output = self.attn_combine(output).unsqueeze(0)\n",
    "\n",
    "        output = F.relu(output)\n",
    "#         output, hidden = self.rnn(output, hidden)\n",
    "        if rnn in [\"RNN\",\"GRU\"]:\n",
    "            output, hidden = self.rnn(output, hidden)\n",
    "            output = F.log_softmax(self.out(output[0]), dim=1)\n",
    "            return output, hidden, attn_weights\n",
    "        else:\n",
    "            output, (hidden, cell) = self.rnn(output, (hidden, cell))\n",
    "            output = F.log_softmax(self.out(output[0]), dim=1)\n",
    "            return output, (hidden, cell), attn_weights\n",
    "\n",
    "    def initHidden(self):\n",
    "        return torch.zeros(1, 1, self.hidden_size, device=device)"
   ]
  },
  {
   "cell_type": "code",
   "execution_count": 8,
   "metadata": {},
   "outputs": [],
   "source": [
    "teacher_forcing_ratio = 0.5\n",
    "\n",
    "\n",
    "def train(input_tensor, target_tensor, encoder, decoder, encoder_optimizer, decoder_optimizer, criterion, max_length=max_len):\n",
    "    encoder_hidden = encoder.initHidden()\n",
    "    if rnn in [\"RNN\",\"GRU\"]:\n",
    "        encoder_cell=None\n",
    "    else:\n",
    "        encoder_cell = encoder.initHidden()\n",
    "\n",
    "    encoder_optimizer.zero_grad()\n",
    "    decoder_optimizer.zero_grad()\n",
    "\n",
    "    input_length = input_tensor.size(0)\n",
    "    target_length = target_tensor.size(0)\n",
    "\n",
    "    encoder_outputs = torch.zeros(max_length, encoder.hidden_size, device=device)\n",
    "\n",
    "    loss = 0\n",
    "\n",
    "    for ei in range(input_length):\n",
    "        if rnn in [\"RNN\",\"GRU\"]:\n",
    "            encoder_output, encoder_hidden = encoder(\n",
    "                input_tensor[ei], encoder_hidden)\n",
    "        else:\n",
    "            encoder_output, (encoder_hidden,encoder_cell) = encoder(\n",
    "                input_tensor[ei], encoder_hidden, cell=encoder_cell)\n",
    "        encoder_outputs[ei] = encoder_output[0, 0]\n",
    "\n",
    "    decoder_input = torch.tensor([[dec_vocab[\"<SOS>\"]]], device=device)\n",
    "\n",
    "    decoder_hidden = encoder_hidden\n",
    "    if rnn not in [\"RNN\",\"GRU\"]:\n",
    "        decoder_cell = encoder_cell\n",
    "\n",
    "    use_teacher_forcing = True if np.random.random() < teacher_forcing_ratio else False\n",
    "\n",
    "    if use_teacher_forcing:\n",
    "        # Teacher forcing: Feed the target as the next input\n",
    "        for di in range(target_length):\n",
    "            if rnn in [\"RNN\",\"GRU\"]:\n",
    "                decoder_output, decoder_hidden = decoder(\n",
    "                    decoder_input, decoder_hidden)\n",
    "    #             decoder_output, decoder_hidden, decoder_attention = decoder(\n",
    "    #                 decoder_input, decoder_hidden, encoder_outputs)\n",
    "            else:\n",
    "                decoder_output, (decoder_hidden, decoder_cell) = decoder(\n",
    "                    decoder_input, decoder_hidden, cell=decoder_cell)\n",
    "    #             decoder_output, (decoder_hidden, decoder_cell), decoder_attention = decoder(\n",
    "    #                 decoder_input, decoder_hidden, encoder_outputs, cell=decoder_cell)\n",
    "            loss += criterion(decoder_output, target_tensor[di])\n",
    "            decoder_input = target_tensor[di]  # Teacher forcing\n",
    "\n",
    "    else:\n",
    "        # Without teacher forcing: use its own predictions as the next input\n",
    "        for di in range(target_length):\n",
    "            if rnn in [\"RNN\",\"GRU\"]:\n",
    "                decoder_output, decoder_hidden = decoder(\n",
    "                    decoder_input, decoder_hidden)\n",
    "    #             decoder_output, decoder_hidden, decoder_attention = decoder(\n",
    "    #                 decoder_input, decoder_hidden, encoder_outputs)\n",
    "            else:\n",
    "                decoder_output, (decoder_hidden, decoder_cell) = decoder(\n",
    "                    decoder_input, decoder_hidden, cell=decoder_cell)\n",
    "    #             decoder_output, (decoder_hidden, decoder_cell), decoder_attention = decoder(\n",
    "    #                 decoder_input, decoder_hidden, encoder_outputs, cell=decoder_cell)\n",
    "            topv, topi = decoder_output.topk(1)\n",
    "            decoder_input = topi.squeeze().detach()  # detach from history as input\n",
    "\n",
    "            loss += criterion(decoder_output, target_tensor[di])\n",
    "            if decoder_input.item() == dec_vocab[\"<EOS>\"]:\n",
    "                break\n",
    "\n",
    "    loss.backward()\n",
    "\n",
    "    encoder_optimizer.step()\n",
    "    decoder_optimizer.step()\n",
    "\n",
    "    return loss.item() / target_length"
   ]
  },
  {
   "cell_type": "code",
   "execution_count": 9,
   "metadata": {},
   "outputs": [],
   "source": [
    "def evaluate(encoder, decoder, sentence, max_length=max_len):\n",
    "    with torch.no_grad():\n",
    "        input_tensor = get_encoderinput([sentence])[0]\n",
    "        input_length = input_tensor.size()[0]\n",
    "        encoder_hidden = encoder.initHidden()\n",
    "        if rnn not in [\"RNN\",\"GRU\"]:\n",
    "            encoder_cell = encoder.initHidden()\n",
    "            \n",
    "        encoder_outputs = torch.zeros(max_length, encoder.hidden_size, device=device)\n",
    "\n",
    "        for ei in range(input_length):\n",
    "#             encoder_output, encoder_hidden = encoder(input_tensor[ei],\n",
    "#                                                      encoder_hidden)\n",
    "            if rnn in [\"RNN\",\"GRU\"]:\n",
    "                encoder_output, encoder_hidden = encoder(\n",
    "                    input_tensor[ei], encoder_hidden)\n",
    "            else:\n",
    "                encoder_output, (encoder_hidden,encoder_cell) = encoder(\n",
    "                    input_tensor[ei], encoder_hidden, cell=encoder_cell)\n",
    "            encoder_outputs[ei] += encoder_output[0, 0]\n",
    "\n",
    "        decoder_input = torch.tensor([[dec_vocab[\"<SOS>\"]]], device=device)  # SOS\n",
    "\n",
    "        decoder_hidden = encoder_hidden\n",
    "        if rnn not in [\"RNN\",\"GRU\"]:\n",
    "            decoder_cell = encoder_cell\n",
    "\n",
    "        decoded_words = []\n",
    "#         decoder_attentions = torch.zeros(max_length, max_length)\n",
    "\n",
    "        for di in range(max_length):\n",
    "#             decoder_output, decoder_hidden = decoder(\n",
    "#                 decoder_input, decoder_hidden)\n",
    "# #             decoder_output, decoder_hidden, decoder_attention = decoder(\n",
    "# #                 decoder_input, decoder_hidden, encoder_outputs)\n",
    "            if rnn in [\"RNN\",\"GRU\"]:\n",
    "                decoder_output, decoder_hidden = decoder(\n",
    "                    decoder_input, decoder_hidden)\n",
    "    #             decoder_output, decoder_hidden, decoder_attention = decoder(\n",
    "    #                 decoder_input, decoder_hidden, encoder_outputs)\n",
    "            else:\n",
    "                decoder_output, (decoder_hidden, decoder_cell) = decoder(\n",
    "                    decoder_input, decoder_hidden, cell=decoder_cell)\n",
    "    #             decoder_output, (decoder_hidden, decoder_cell), decoder_attention = decoder(\n",
    "    #                 decoder_input, decoder_hidden, encoder_outputs, cell=decoder_cell)\n",
    "    \n",
    "            #decoder_attentions[di] = decoder_attention.data\n",
    "            topv, topi = decoder_output.data.topk(1)\n",
    "            if topi.item() == dec_vocab[\"<EOS>\"]:\n",
    "                #decoded_words.append('<EOS>')\n",
    "                break\n",
    "            else:\n",
    "                decoded_words.append(inv_vocab[topi.item()])\n",
    "\n",
    "            decoder_input = topi.squeeze().detach()\n",
    "        if len(decoded_words)==0:\n",
    "            return \"i am not sure\".split()\n",
    "        return decoded_words #, decoder_attentions[:di + 1]"
   ]
  },
  {
   "cell_type": "code",
   "execution_count": 10,
   "metadata": {},
   "outputs": [],
   "source": [
    "#evaluate\n",
    "def calWordErrorRate1(ytruelist,ypredlist):\n",
    "    for y in ypredlist:\n",
    "        if y in ytruelist:\n",
    "            return 0\n",
    "    return 1 #error rate counting by word\n",
    "\n",
    "def calWordErrorRate(ytruelist,ypredlist):\n",
    "    error=0\n",
    "    for y in ypredlist:\n",
    "        if y not in ytruelist:\n",
    "            error+=1\n",
    "    return error/len(ypredlist) #error rate counting by word\n",
    "\n",
    "def computeWER(testset):\n",
    "    WER = []\n",
    "    WER_one = []\n",
    "    for i,sentence in enumerate(testset):\n",
    "        ytrue = testset[i]\n",
    "        decoded_translation = evaluate(encoder1, attn_decoder1, sentence)\n",
    "        e = calWordErrorRate(ytrue,decoded_translation)\n",
    "        WER.append(e)\n",
    "        WER_one.append(calWordErrorRate1(ytrue,decoded_translation))\n",
    "    wer = round(np.mean(WER),3)\n",
    "    wer1 = round(np.mean(WER_one),3)\n",
    "    print(\"WER:\",wer,\" WER counting one word:\",wer1)\n",
    "    return wer,wer1\n"
   ]
  },
  {
   "cell_type": "code",
   "execution_count": 11,
   "metadata": {},
   "outputs": [],
   "source": [
    "def trainIters(encoder, decoder, n_iters, print_every=1000, plot_every=100, learning_rate=0.01):\n",
    "    start = time.time()\n",
    "#     plot_losses = []\n",
    "    print_loss_total = 0  # Reset every print_every\n",
    "    plot_loss_total = 0  # Reset every plot_every\n",
    "\n",
    "    encoder_optimizer = optim.SGD(encoder.parameters(), lr=learning_rate)\n",
    "    decoder_optimizer = optim.SGD(decoder.parameters(), lr=learning_rate)\n",
    "                       \n",
    "    criterion = nn.NLLLoss()\n",
    "    \n",
    "    minwer = 1.0\n",
    "    record = [None,None]\n",
    "    for iter in range(1, n_iters + 1):\n",
    "        ind = np.random.choice(range(ntrain_samples))\n",
    "        input_tensor = encoder_inp[ind]\n",
    "        target_tensor = decoder_inp[ind]\n",
    "\n",
    "        loss = train(input_tensor, target_tensor, encoder,\n",
    "                     decoder, encoder_optimizer, decoder_optimizer, criterion)\n",
    "        print_loss_total += loss\n",
    "        plot_loss_total += loss\n",
    "\n",
    "        if iter % print_every == 0:\n",
    "            print_loss_avg = print_loss_total / print_every\n",
    "            print_loss_total = 0\n",
    "            print('%s (%d %d%%) %.4f' % (timeSince(start, iter / n_iters),\n",
    "                                         iter, iter / n_iters * 100, print_loss_avg))\n",
    "            print(\"train\", end=\" -- \")\n",
    "            wer, wer1 = computeWER(questions) #train\n",
    "            print(\"test\", end=\" -- \")\n",
    "            wer, wer1 = computeWER(test_questions)\n",
    "            if wer1<=minwer:\n",
    "                minwer=wer1\n",
    "                torch.save({'encoder': encoder.state_dict(), \n",
    "                            'decoder': decoder.state_dict()}, \n",
    "                           f\"checkpoint_file_{rnn}\")"
   ]
  },
  {
   "cell_type": "code",
   "execution_count": 12,
   "metadata": {},
   "outputs": [
    {
     "name": "stdout",
     "output_type": "stream",
     "text": [
      "0m 2s (- 0m 47s) (300 5%) 3.0872\n",
      "train -- WER: 0.73  WER counting one word: 0.73\n",
      "test -- WER: 0.75  WER counting one word: 0.75\n",
      "0m 5s (- 0m 45s) (600 10%) 3.4029\n",
      "train -- WER: 0.738  WER counting one word: 0.472\n",
      "test -- WER: 0.75  WER counting one word: 0.5\n",
      "0m 7s (- 0m 43s) (900 15%) 3.2530\n",
      "train -- WER: 0.728  WER counting one word: 0.472\n",
      "test -- WER: 0.75  WER counting one word: 0.5\n",
      "0m 10s (- 0m 40s) (1200 20%) 3.1797\n",
      "train -- WER: 0.772  WER counting one word: 0.506\n",
      "test -- WER: 0.833  WER counting one word: 0.6\n",
      "0m 12s (- 0m 38s) (1500 25%) 3.1164\n",
      "train -- WER: 0.804  WER counting one word: 0.652\n",
      "test -- WER: 0.806  WER counting one word: 0.6\n",
      "0m 15s (- 0m 36s) (1800 30%) 2.7862\n",
      "train -- WER: 0.796  WER counting one word: 0.629\n",
      "test -- WER: 0.825  WER counting one word: 0.7\n",
      "0m 18s (- 0m 33s) (2100 35%) 2.5769\n",
      "train -- WER: 0.83  WER counting one word: 0.652\n",
      "test -- WER: 0.811  WER counting one word: 0.55\n",
      "0m 20s (- 0m 31s) (2400 40%) 2.3703\n",
      "train -- WER: 0.782  WER counting one word: 0.584\n",
      "test -- WER: 0.842  WER counting one word: 0.6\n",
      "0m 23s (- 0m 28s) (2700 45%) 2.0714\n",
      "train -- WER: 0.77  WER counting one word: 0.472\n",
      "test -- WER: 0.855  WER counting one word: 0.4\n",
      "0m 26s (- 0m 26s) (3000 50%) 1.7596\n",
      "train -- WER: 0.768  WER counting one word: 0.483\n",
      "test -- WER: 0.816  WER counting one word: 0.4\n",
      "0m 29s (- 0m 23s) (3300 55%) 1.4047\n",
      "train -- WER: 0.783  WER counting one word: 0.461\n",
      "test -- WER: 0.772  WER counting one word: 0.45\n",
      "0m 32s (- 0m 21s) (3600 60%) 1.0215\n",
      "train -- WER: 0.797  WER counting one word: 0.472\n",
      "test -- WER: 0.842  WER counting one word: 0.55\n",
      "0m 35s (- 0m 18s) (3900 65%) 0.7917\n",
      "train -- WER: 0.789  WER counting one word: 0.427\n",
      "test -- WER: 0.773  WER counting one word: 0.5\n",
      "0m 38s (- 0m 16s) (4200 70%) 0.6004\n",
      "train -- WER: 0.788  WER counting one word: 0.416\n",
      "test -- WER: 0.815  WER counting one word: 0.5\n",
      "0m 40s (- 0m 13s) (4500 75%) 0.5126\n",
      "train -- WER: 0.794  WER counting one word: 0.416\n",
      "test -- WER: 0.755  WER counting one word: 0.4\n",
      "0m 44s (- 0m 11s) (4800 80%) 0.4155\n",
      "train -- WER: 0.81  WER counting one word: 0.427\n",
      "test -- WER: 0.741  WER counting one word: 0.35\n",
      "0m 47s (- 0m 8s) (5100 85%) 0.3165\n",
      "train -- WER: 0.805  WER counting one word: 0.427\n",
      "test -- WER: 0.785  WER counting one word: 0.45\n",
      "0m 50s (- 0m 5s) (5400 90%) 0.2311\n",
      "train -- WER: 0.813  WER counting one word: 0.427\n",
      "test -- WER: 0.775  WER counting one word: 0.4\n",
      "0m 53s (- 0m 2s) (5700 95%) 0.2229\n",
      "train -- WER: 0.813  WER counting one word: 0.416\n",
      "test -- WER: 0.788  WER counting one word: 0.35\n",
      "0m 56s (- 0m 0s) (6000 100%) 0.1928\n",
      "train -- WER: 0.816  WER counting one word: 0.427\n",
      "test -- WER: 0.784  WER counting one word: 0.4\n"
     ]
    },
    {
     "data": {
      "text/plain": [
       "<All keys matched successfully>"
      ]
     },
     "execution_count": 12,
     "metadata": {},
     "output_type": "execute_result"
    }
   ],
   "source": [
    "rnn = \"LSTM\"\n",
    "encoder1 = EncoderRNN(VOCAB_SIZE, hidden_size).to(device)\n",
    "attn_decoder1 = DecoderRNN(hidden_size, DEC_VOCAB_SIZE).to(device)\n",
    "#use no atte\n",
    "trainIters(encoder1, attn_decoder1, 6000, print_every=300)\n",
    "\n",
    "checkpoint = torch.load(f\"checkpoint_file_{rnn}\")\n",
    "encoder1.load_state_dict(checkpoint['encoder'])\n",
    "attn_decoder1.load_state_dict(checkpoint['decoder'])"
   ]
  },
  {
   "cell_type": "code",
   "execution_count": 13,
   "metadata": {},
   "outputs": [
    {
     "name": "stdout",
     "output_type": "stream",
     "text": [
      "WER: 0.788  WER counting one word: 0.35\n"
     ]
    },
    {
     "data": {
      "text/plain": [
       "(0.788, 0.35)"
      ]
     },
     "execution_count": 13,
     "metadata": {},
     "output_type": "execute_result"
    }
   ],
   "source": [
    "computeWER(test_questions)"
   ]
  },
  {
   "cell_type": "code",
   "execution_count": null,
   "metadata": {},
   "outputs": [],
   "source": []
  },
  {
   "cell_type": "code",
   "execution_count": 14,
   "metadata": {},
   "outputs": [
    {
     "name": "stdout",
     "output_type": "stream",
     "text": [
      "0m 2s (- 0m 41s) (300 5%) 3.2346\n",
      "train -- WER: 0.817  WER counting one word: 0.607\n",
      "test -- WER: 0.8  WER counting one word: 0.55\n",
      "0m 4s (- 0m 42s) (600 10%) 2.9924\n",
      "train -- WER: 0.846  WER counting one word: 0.652\n",
      "test -- WER: 0.885  WER counting one word: 0.65\n",
      "0m 7s (- 0m 42s) (900 15%) 2.4592\n",
      "train -- WER: 0.809  WER counting one word: 0.539\n",
      "test -- WER: 0.828  WER counting one word: 0.5\n",
      "0m 10s (- 0m 40s) (1200 20%) 1.8344\n",
      "train -- WER: 0.796  WER counting one word: 0.551\n",
      "test -- WER: 0.861  WER counting one word: 0.6\n",
      "0m 12s (- 0m 37s) (1500 25%) 1.4032\n",
      "train -- WER: 0.822  WER counting one word: 0.528\n",
      "test -- WER: 0.84  WER counting one word: 0.5\n",
      "0m 15s (- 0m 35s) (1800 30%) 1.0603\n",
      "train -- WER: 0.824  WER counting one word: 0.472\n",
      "test -- WER: 0.805  WER counting one word: 0.35\n",
      "0m 18s (- 0m 33s) (2100 35%) 0.7070\n",
      "train -- WER: 0.811  WER counting one word: 0.438\n",
      "test -- WER: 0.822  WER counting one word: 0.55\n",
      "0m 20s (- 0m 31s) (2400 40%) 0.5107\n",
      "train -- WER: 0.792  WER counting one word: 0.416\n",
      "test -- WER: 0.885  WER counting one word: 0.6\n",
      "0m 24s (- 0m 29s) (2700 45%) 0.4083\n",
      "train -- WER: 0.795  WER counting one word: 0.416\n",
      "test -- WER: 0.827  WER counting one word: 0.55\n",
      "0m 26s (- 0m 26s) (3000 50%) 0.2518\n",
      "train -- WER: 0.804  WER counting one word: 0.427\n",
      "test -- WER: 0.817  WER counting one word: 0.5\n",
      "0m 29s (- 0m 24s) (3300 55%) 0.2058\n",
      "train -- WER: 0.781  WER counting one word: 0.382\n",
      "test -- WER: 0.829  WER counting one word: 0.5\n",
      "0m 32s (- 0m 21s) (3600 60%) 0.1804\n",
      "train -- WER: 0.785  WER counting one word: 0.382\n",
      "test -- WER: 0.782  WER counting one word: 0.45\n",
      "0m 35s (- 0m 19s) (3900 65%) 0.1341\n",
      "train -- WER: 0.809  WER counting one word: 0.416\n",
      "test -- WER: 0.789  WER counting one word: 0.45\n",
      "0m 38s (- 0m 16s) (4200 70%) 0.1199\n",
      "train -- WER: 0.79  WER counting one word: 0.393\n",
      "test -- WER: 0.836  WER counting one word: 0.55\n",
      "0m 41s (- 0m 13s) (4500 75%) 0.0831\n",
      "train -- WER: 0.798  WER counting one word: 0.416\n",
      "test -- WER: 0.809  WER counting one word: 0.55\n",
      "0m 44s (- 0m 11s) (4800 80%) 0.0867\n",
      "train -- WER: 0.795  WER counting one word: 0.393\n",
      "test -- WER: 0.832  WER counting one word: 0.55\n",
      "0m 47s (- 0m 8s) (5100 85%) 0.0895\n",
      "train -- WER: 0.793  WER counting one word: 0.416\n",
      "test -- WER: 0.809  WER counting one word: 0.55\n",
      "0m 50s (- 0m 5s) (5400 90%) 0.0790\n",
      "train -- WER: 0.793  WER counting one word: 0.416\n",
      "test -- WER: 0.799  WER counting one word: 0.45\n",
      "0m 53s (- 0m 2s) (5700 95%) 0.0556\n",
      "train -- WER: 0.79  WER counting one word: 0.393\n",
      "test -- WER: 0.822  WER counting one word: 0.55\n",
      "0m 56s (- 0m 0s) (6000 100%) 0.0663\n",
      "train -- WER: 0.79  WER counting one word: 0.393\n",
      "test -- WER: 0.808  WER counting one word: 0.5\n"
     ]
    },
    {
     "data": {
      "text/plain": [
       "<All keys matched successfully>"
      ]
     },
     "execution_count": 14,
     "metadata": {},
     "output_type": "execute_result"
    }
   ],
   "source": [
    "rnn = \"RNN\"\n",
    "encoder1 = EncoderRNN(VOCAB_SIZE, hidden_size).to(device)\n",
    "attn_decoder1 = DecoderRNN(hidden_size, DEC_VOCAB_SIZE).to(device)\n",
    "#use no atte\n",
    "trainIters(encoder1, attn_decoder1, 6000, print_every=300)\n",
    "\n",
    "checkpoint = torch.load(f\"checkpoint_file_{rnn}\")\n",
    "encoder1.load_state_dict(checkpoint['encoder'])\n",
    "attn_decoder1.load_state_dict(checkpoint['decoder'])"
   ]
  },
  {
   "cell_type": "code",
   "execution_count": 15,
   "metadata": {},
   "outputs": [
    {
     "name": "stdout",
     "output_type": "stream",
     "text": [
      "WER: 0.805  WER counting one word: 0.35\n"
     ]
    },
    {
     "data": {
      "text/plain": [
       "(0.805, 0.35)"
      ]
     },
     "execution_count": 15,
     "metadata": {},
     "output_type": "execute_result"
    }
   ],
   "source": [
    "computeWER(test_questions)"
   ]
  },
  {
   "cell_type": "code",
   "execution_count": null,
   "metadata": {},
   "outputs": [],
   "source": []
  },
  {
   "cell_type": "code",
   "execution_count": 16,
   "metadata": {},
   "outputs": [
    {
     "name": "stdout",
     "output_type": "stream",
     "text": [
      "0m 2s (- 0m 38s) (300 5%) 3.1383\n",
      "train -- WER: 0.725  WER counting one word: 0.596\n",
      "test -- WER: 0.725  WER counting one word: 0.65\n",
      "0m 4s (- 0m 38s) (600 10%) 3.1673\n",
      "train -- WER: 0.777  WER counting one word: 0.674\n",
      "test -- WER: 0.8  WER counting one word: 0.75\n",
      "0m 6s (- 0m 38s) (900 15%) 3.0945\n",
      "train -- WER: 0.748  WER counting one word: 0.573\n",
      "test -- WER: 0.8  WER counting one word: 0.7\n",
      "0m 9s (- 0m 36s) (1200 20%) 2.7928\n",
      "train -- WER: 0.815  WER counting one word: 0.652\n",
      "test -- WER: 0.771  WER counting one word: 0.55\n",
      "0m 11s (- 0m 34s) (1500 25%) 2.6360\n",
      "train -- WER: 0.827  WER counting one word: 0.64\n",
      "test -- WER: 0.87  WER counting one word: 0.7\n",
      "0m 14s (- 0m 33s) (1800 30%) 2.4086\n",
      "train -- WER: 0.819  WER counting one word: 0.551\n",
      "test -- WER: 0.801  WER counting one word: 0.5\n",
      "0m 16s (- 0m 31s) (2100 35%) 2.0373\n",
      "train -- WER: 0.82  WER counting one word: 0.607\n",
      "test -- WER: 0.867  WER counting one word: 0.6\n",
      "0m 19s (- 0m 29s) (2400 40%) 1.8232\n",
      "train -- WER: 0.824  WER counting one word: 0.584\n",
      "test -- WER: 0.866  WER counting one word: 0.7\n",
      "0m 22s (- 0m 27s) (2700 45%) 1.3736\n",
      "train -- WER: 0.767  WER counting one word: 0.506\n",
      "test -- WER: 0.889  WER counting one word: 0.75\n",
      "0m 25s (- 0m 25s) (3000 50%) 1.1066\n",
      "train -- WER: 0.795  WER counting one word: 0.483\n",
      "test -- WER: 0.792  WER counting one word: 0.6\n",
      "0m 28s (- 0m 22s) (3300 55%) 0.9115\n",
      "train -- WER: 0.779  WER counting one word: 0.449\n",
      "test -- WER: 0.798  WER counting one word: 0.5\n",
      "0m 30s (- 0m 20s) (3600 60%) 0.6754\n",
      "train -- WER: 0.805  WER counting one word: 0.461\n",
      "test -- WER: 0.777  WER counting one word: 0.45\n",
      "0m 33s (- 0m 18s) (3900 65%) 0.4441\n",
      "train -- WER: 0.812  WER counting one word: 0.472\n",
      "test -- WER: 0.81  WER counting one word: 0.5\n",
      "0m 36s (- 0m 15s) (4200 70%) 0.4130\n",
      "train -- WER: 0.8  WER counting one word: 0.449\n",
      "test -- WER: 0.763  WER counting one word: 0.45\n",
      "0m 39s (- 0m 13s) (4500 75%) 0.3328\n",
      "train -- WER: 0.792  WER counting one word: 0.393\n",
      "test -- WER: 0.782  WER counting one word: 0.5\n",
      "0m 42s (- 0m 10s) (4800 80%) 0.2540\n",
      "train -- WER: 0.812  WER counting one word: 0.427\n",
      "test -- WER: 0.811  WER counting one word: 0.55\n",
      "0m 45s (- 0m 7s) (5100 85%) 0.2596\n",
      "train -- WER: 0.794  WER counting one word: 0.404\n",
      "test -- WER: 0.787  WER counting one word: 0.4\n",
      "0m 48s (- 0m 5s) (5400 90%) 0.2221\n",
      "train -- WER: 0.807  WER counting one word: 0.416\n",
      "test -- WER: 0.775  WER counting one word: 0.5\n",
      "0m 51s (- 0m 2s) (5700 95%) 0.1955\n",
      "train -- WER: 0.784  WER counting one word: 0.393\n",
      "test -- WER: 0.773  WER counting one word: 0.5\n",
      "0m 54s (- 0m 0s) (6000 100%) 0.1628\n",
      "train -- WER: 0.811  WER counting one word: 0.438\n",
      "test -- WER: 0.789  WER counting one word: 0.55\n"
     ]
    },
    {
     "data": {
      "text/plain": [
       "<All keys matched successfully>"
      ]
     },
     "execution_count": 16,
     "metadata": {},
     "output_type": "execute_result"
    }
   ],
   "source": [
    "rnn = \"GRU\"\n",
    "encoder1 = EncoderRNN(VOCAB_SIZE, hidden_size).to(device)\n",
    "attn_decoder1 = DecoderRNN(hidden_size, DEC_VOCAB_SIZE).to(device)\n",
    "#use no atte\n",
    "trainIters(encoder1, attn_decoder1, 6000, print_every=300)\n",
    "\n",
    "checkpoint = torch.load(f\"checkpoint_file_{rnn}\")\n",
    "encoder1.load_state_dict(checkpoint['encoder'])\n",
    "attn_decoder1.load_state_dict(checkpoint['decoder'])"
   ]
  },
  {
   "cell_type": "code",
   "execution_count": 17,
   "metadata": {},
   "outputs": [
    {
     "name": "stdout",
     "output_type": "stream",
     "text": [
      "WER: 0.787  WER counting one word: 0.4\n"
     ]
    },
    {
     "data": {
      "text/plain": [
       "(0.787, 0.4)"
      ]
     },
     "execution_count": 17,
     "metadata": {},
     "output_type": "execute_result"
    }
   ],
   "source": [
    "computeWER(test_questions)"
   ]
  },
  {
   "cell_type": "code",
   "execution_count": null,
   "metadata": {},
   "outputs": [],
   "source": []
  },
  {
   "cell_type": "code",
   "execution_count": 18,
   "metadata": {},
   "outputs": [
    {
     "name": "stdout",
     "output_type": "stream",
     "text": [
      "question: life is the condition that distinguishes organisms from inorganic matter including\n",
      "true answer: e capacity for growth reproduction functional activity and continual change\n",
      "chatbot answer: i am not read\n",
      "\n",
      "question: can i help you with anything\n",
      "true answer: yes i have a question\n",
      "chatbot answer: i am not read\n",
      "\n",
      "question: of course i am a programmer\n",
      "true answer: i am indeed\n",
      "chatbot answer: of course i am a programmer\n",
      "\n",
      "question: i am also good\n",
      "true answer: that is good to hear\n",
      "chatbot answer: that is good\n",
      "\n",
      "question: who who is but a form following the function of what\n",
      "true answer: what are you then\n",
      "chatbot answer: i am but a man in a mask\n",
      "\n"
     ]
    }
   ],
   "source": [
    "#show examples of output\n",
    "for i,sentence in enumerate(test_questions[:5]):\n",
    "    print(\"question:\",\" \".join(sentence))\n",
    "    print(\"true answer:\",\" \".join(test_answers[i]))\n",
    "    decoded_translation = evaluate(encoder1, attn_decoder1, sentence)\n",
    "    print(\"chatbot answer:\",\" \".join(decoded_translation))\n",
    "    print()  "
   ]
  },
  {
   "cell_type": "code",
   "execution_count": 19,
   "metadata": {},
   "outputs": [
    {
     "name": "stdout",
     "output_type": "stream",
     "text": [
      "\u001b[1m\u001b[34mNEO:\n",
      "I am Neo. If you want to exit, type ciao\u001b[0m\n"
     ]
    }
   ],
   "source": [
    "from termcolor import colored\n",
    "\n",
    "#Response Fetching\n",
    "flag=False\n",
    "print(colored(\"NEO:\\nI am Neo. If you want to exit, type ciao\",'blue',attrs=['bold']))\n",
    "while(flag==True):\n",
    "    print(colored(\"\\nYOU:\",'red',attrs=['bold']))\n",
    "    u_input = input()\n",
    "    if(u_input!='ciao'):\n",
    "        print(colored(\"\\nNEO:\",'blue',attrs=['bold']))\n",
    "        sentence = mysplit(u_input)\n",
    "        decoded_translation = evaluate(encoder1, attn_decoder1, sentence)\n",
    "        decoded_sentence = \" \".join(decoded_translation)\n",
    "        print(colored(decoded_sentence.strip().capitalize(),'blue'))\n",
    "    else:\n",
    "        flag=False\n",
    "        print(colored(\"\\nNEO: Bye! take care..\",'blue', attrs=['bold']))"
   ]
  },
  {
   "cell_type": "code",
   "execution_count": null,
   "metadata": {},
   "outputs": [],
   "source": []
  }
 ],
 "metadata": {
  "kernelspec": {
   "display_name": "Python 3",
   "language": "python",
   "name": "python3"
  },
  "language_info": {
   "codemirror_mode": {
    "name": "ipython",
    "version": 3
   },
   "file_extension": ".py",
   "mimetype": "text/x-python",
   "name": "python",
   "nbconvert_exporter": "python",
   "pygments_lexer": "ipython3",
   "version": "3.6.9"
  }
 },
 "nbformat": 4,
 "nbformat_minor": 4
}
