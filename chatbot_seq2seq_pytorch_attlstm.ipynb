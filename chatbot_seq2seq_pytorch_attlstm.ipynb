{
 "cells": [
  {
   "cell_type": "code",
   "execution_count": 1,
   "metadata": {},
   "outputs": [
    {
     "data": {
      "text/plain": [
       "device(type='cuda')"
      ]
     },
     "execution_count": 1,
     "metadata": {},
     "output_type": "execute_result"
    }
   ],
   "source": [
    "from __future__ import unicode_literals, print_function, division\n",
    "from io import open\n",
    "import unicodedata\n",
    "import string\n",
    "import re\n",
    "import gc\n",
    "import numpy as np\n",
    "\n",
    "import matplotlib.pyplot as plt\n",
    "\n",
    "\n",
    "import torch\n",
    "import torch.nn as nn\n",
    "from torch import optim\n",
    "import torch.nn.functional as F\n",
    "\n",
    "device = torch.device(\"cuda\" if torch.cuda.is_available() else \"cpu\")\n",
    "device"
   ]
  },
  {
   "cell_type": "code",
   "execution_count": 2,
   "metadata": {},
   "outputs": [],
   "source": [
    "wordcount_thres =1\n",
    "hidden_size = 100"
   ]
  },
  {
   "cell_type": "code",
   "execution_count": 3,
   "metadata": {},
   "outputs": [
    {
     "name": "stdout",
     "output_type": "stream",
     "text": [
      "number of question-answer pairs: 109\n",
      "89 89\n",
      "encoder vocabulary_size: 210\n",
      "decoder vocabulary_size: 243\n"
     ]
    },
    {
     "data": {
      "text/plain": [
       "0"
      ]
     },
     "execution_count": 3,
     "metadata": {},
     "output_type": "execute_result"
    }
   ],
   "source": [
    "lines = open('data/chatcorpus.txt', encoding='utf-8',\n",
    "             errors='ignore').read().split('\\n')\n",
    "\n",
    "#define split\n",
    "def mysplit(txt):\n",
    "    txt = clean_text(txt)\n",
    "    tokens = re.findall(r'\\w+|[^\\s\\w]+', txt)\n",
    "    return [t for t in tokens if t!=\"\"]\n",
    "    \n",
    "#remove abbreviations\n",
    "def clean_text(txt):\n",
    "    txt = txt.lower()\n",
    "    txt = re.sub(r\"i'm\", \"i am\", txt)\n",
    "    txt = re.sub(r\"he's\", \"he is\", txt)\n",
    "    txt = re.sub(r\"she's\", \"she is\", txt)\n",
    "    txt = re.sub(r\"that's\", \"that is\", txt)\n",
    "    txt = re.sub(r\"what's\", \"what is\", txt)\n",
    "    txt = re.sub(r\"where's\", \"where is\", txt)\n",
    "    txt = re.sub(r\"\\'ll\", \" will\", txt)\n",
    "    txt = re.sub(r\"\\'ve\", \" have\", txt)\n",
    "    txt = re.sub(r\"\\'re\", \" are\", txt)\n",
    "    txt = re.sub(r\"\\'d\", \" would\", txt)\n",
    "    txt = re.sub(r\"won't\", \"will not\", txt)\n",
    "    txt = re.sub(r\"can't\", \"can not\", txt)\n",
    "    txt = re.sub(r\"[^\\w\\s]\", \"\", txt)\n",
    "    return txt\n",
    "\n",
    "questions = []\n",
    "answers = []\n",
    "for line in lines:\n",
    "    line = line.split(\"\\t\")\n",
    "    ques = mysplit(line[0])\n",
    "    ans = mysplit(line[1])\n",
    "    questions.append(ques)\n",
    "    answers.append(ans)\n",
    "print(\"number of question-answer pairs:\",len(questions))\n",
    "\n",
    "ntrain_samples =  len(questions)-20 #use 20 samples for testing\n",
    "max_len = max([len(q) for q in questions])\n",
    "np.random.seed(0)\n",
    "inds = np.random.choice(len(questions),20,replace=False)\n",
    "test_questions = [questions[i] for i in inds]\n",
    "test_answers = [answers[i] for i in inds]\n",
    "questions=[questions[i] for i in range(len(questions)) if i not in inds]\n",
    "answers=[answers[i] for i in range(len(answers)) if i not in inds]\n",
    "print(len(questions),ntrain_samples)\n",
    "\n",
    "#encoder\n",
    "# get vocabulary\n",
    "wordcount = {}\n",
    "for line in questions:\n",
    "    for word in line:\n",
    "        wordcount[word] = wordcount.get(word,0)+1\n",
    "vocabulary = [w for w,c in wordcount.items() if c>=wordcount_thres]\n",
    "vocabulary = ['<EOS>', '<OUT>']+vocabulary #add tokens\n",
    "vocab={}\n",
    "i = len(vocab)\n",
    "for token in vocabulary:\n",
    "    vocab[token] = i\n",
    "    i += 1\n",
    "VOCAB_SIZE = len(vocab)\n",
    "print(\"encoder vocabulary_size:\",VOCAB_SIZE)  \n",
    "\n",
    "#decoding\n",
    "vocabulary=set()\n",
    "for line in answers:\n",
    "    vocabulary.update(line)\n",
    "vocabulary = list(vocabulary)\n",
    "vocabulary = ['<SOS>', '<EOS>']+vocabulary #add tokens\n",
    "dec_vocab={w:i for i,w in enumerate(vocabulary)}\n",
    "DEC_VOCAB_SIZE = len(vocabulary)\n",
    "print(\"decoder vocabulary_size:\",DEC_VOCAB_SIZE)  \n",
    "inv_vocab = {i:w for w,i in dec_vocab.items()}#for decoding\n",
    "\n",
    "\n",
    "def get_encoderinput(questions):\n",
    "    encoder_inp = []\n",
    "    for line in questions:\n",
    "        lst = []\n",
    "        for word in line:\n",
    "            if word not in vocab:\n",
    "                lst.append(vocab['<OUT>'])\n",
    "            else:\n",
    "                lst.append(vocab[word])\n",
    "        lst = torch.tensor(lst, dtype=torch.long, device=device).view(-1, 1)\n",
    "        encoder_inp.append(lst)\n",
    "    return encoder_inp\n",
    "encoder_inp = get_encoderinput(questions)\n",
    "\n",
    "def get_decoderinput(answers):\n",
    "    decoder_inp = []\n",
    "    for line in answers:\n",
    "        lst = [] #vocab[\"<SOS>\"]\n",
    "        for word in line:\n",
    "            lst.append(dec_vocab[word]) \n",
    "        lst.append(dec_vocab[\"<EOS>\"])\n",
    "        lst = torch.tensor(lst, dtype=torch.long, device=device).view(-1, 1)\n",
    "        decoder_inp.append(lst)\n",
    "    return decoder_inp\n",
    "decoder_inp = get_decoderinput(answers)\n",
    "\n",
    "# save memory space\n",
    "gc.collect()  "
   ]
  },
  {
   "cell_type": "code",
   "execution_count": 4,
   "metadata": {},
   "outputs": [
    {
     "data": {
      "image/png": "[encoded data removed]",
      "text/plain": [
       "<Figure size 432x288 with 2 Axes>"
      ]
     },
     "metadata": {
      "needs_background": "light"
     },
     "output_type": "display_data"
    }
   ],
   "source": [
    "ques_len = [len(q) for q in test_questions]\n",
    "ans_len = [len(a) for a in test_answers]\n",
    "\n",
    "plt.figure()\n",
    "plt.subplot(1,2,1)\n",
    "plt.hist(ques_len,bins=10)\n",
    "plt.subplot(1,2,2)\n",
    "plt.hist(ans_len,bins=10)\n",
    "plt.show()"
   ]
  },
  {
   "cell_type": "code",
   "execution_count": 5,
   "metadata": {},
   "outputs": [],
   "source": [
    "import time\n",
    "import math\n",
    "\n",
    "\n",
    "def asMinutes(s):\n",
    "    m = math.floor(s / 60)\n",
    "    s -= m * 60\n",
    "    return '%dm %ds' % (m, s)\n",
    "\n",
    "\n",
    "def timeSince(since, percent):\n",
    "    now = time.time()\n",
    "    s = now - since\n",
    "    es = s / (percent)\n",
    "    rs = es - s\n",
    "    return '%s (- %s)' % (asMinutes(s), asMinutes(rs))"
   ]
  },
  {
   "cell_type": "code",
   "execution_count": 6,
   "metadata": {},
   "outputs": [],
   "source": [
    "class EncoderRNN(nn.Module):\n",
    "    def __init__(self, input_size, hidden_size):\n",
    "        super(EncoderRNN, self).__init__()\n",
    "        self.hidden_size = hidden_size\n",
    "\n",
    "        self.embedding = nn.Embedding(input_size, hidden_size)\n",
    "        if rnn==\"RNN\":\n",
    "            self.rnn = nn.RNN(hidden_size, hidden_size, batch_first=True)\n",
    "        elif rnn==\"GRU\":\n",
    "            self.rnn = nn.GRU(hidden_size, hidden_size, batch_first=True)\n",
    "        else:\n",
    "            self.rnn = nn.LSTM(hidden_size, hidden_size, batch_first=True)\n",
    "\n",
    "    def forward(self, input, hidden, cell=None):\n",
    "        embedded = self.embedding(input).view(1, 1, -1)\n",
    "        output = embedded\n",
    "        if rnn in [\"RNN\",\"GRU\"]:\n",
    "            output, hidden = self.rnn(output, hidden)\n",
    "            return output, hidden\n",
    "        else:\n",
    "            output, (hidden, cell) = self.rnn(output, (hidden, cell))\n",
    "            return output, (hidden, cell) \n",
    "\n",
    "    def initHidden(self):\n",
    "        return torch.zeros(1, 1, self.hidden_size, device=device)\n",
    "    \n",
    "class DecoderRNN(nn.Module):\n",
    "    def __init__(self, hidden_size, output_size):\n",
    "        super(DecoderRNN, self).__init__()\n",
    "        self.hidden_size = hidden_size\n",
    "\n",
    "        self.embedding = nn.Embedding(output_size, hidden_size)\n",
    "        if rnn==\"RNN\":\n",
    "            self.rnn = nn.RNN(hidden_size, hidden_size, batch_first=True)\n",
    "        elif rnn==\"GRU\":\n",
    "            self.rnn = nn.GRU(hidden_size, hidden_size, batch_first=True)\n",
    "        else:\n",
    "            self.rnn = nn.LSTM(hidden_size, hidden_size, batch_first=True)\n",
    "        self.out = nn.Linear(hidden_size, output_size)\n",
    "        self.softmax = nn.LogSoftmax(dim=1)\n",
    "\n",
    "    def forward(self, input, hidden, cell=None):\n",
    "        output = self.embedding(input).view(1, 1, -1)\n",
    "        output = F.relu(output)\n",
    "        if rnn in [\"RNN\",\"GRU\"]:\n",
    "            output, hidden = self.rnn(output, hidden)\n",
    "            output = self.softmax(self.out(output[0]))\n",
    "            return output, hidden\n",
    "        else:\n",
    "            output, (hidden, cell) = self.rnn(output, (hidden, cell))\n",
    "            output = self.softmax(self.out(output[0]))\n",
    "            return output, (hidden, cell) \n",
    "\n",
    "    def initHidden(self):\n",
    "        return torch.zeros(1, 1, self.hidden_size, device=device)\n",
    "    \n",
    "class AttnDecoderRNN(nn.Module):\n",
    "    def __init__(self, hidden_size, output_size, dropout_p=0.1, max_length=max_len):\n",
    "        super(AttnDecoderRNN, self).__init__()\n",
    "        self.hidden_size = hidden_size\n",
    "        self.output_size = output_size\n",
    "        self.dropout_p = dropout_p\n",
    "        self.max_length = max_length\n",
    "\n",
    "        self.embedding = nn.Embedding(self.output_size, self.hidden_size)\n",
    "        self.attn = nn.Linear(self.hidden_size * 2, self.max_length)\n",
    "        self.attn_combine = nn.Linear(self.hidden_size * 2, self.hidden_size)\n",
    "        self.dropout = nn.Dropout(self.dropout_p)\n",
    "        self.gru = nn.RNN(self.hidden_size, self.hidden_size, batch_first=True)\n",
    "        if rnn==\"RNN\":\n",
    "            self.rnn = nn.RNN(self.hidden_size, self.hidden_size, batch_first=True)\n",
    "        elif rnn==\"GRU\":\n",
    "            self.rnn = nn.GRU(self.hidden_size, self.hidden_size, batch_first=True)\n",
    "        else:\n",
    "            self.rnn = nn.LSTM(self.hidden_size, self.hidden_size, batch_first=True)\n",
    "            \n",
    "        self.out = nn.Linear(self.hidden_size, self.output_size)\n",
    "\n",
    "    def forward(self, input, hidden, encoder_outputs, cell=None):\n",
    "        embedded = self.embedding(input).view(1, 1, -1)\n",
    "        embedded = self.dropout(embedded)\n",
    "\n",
    "        attn_weights = F.softmax(\n",
    "            self.attn(torch.cat((embedded[0], hidden[0]), 1)), dim=1)\n",
    "        attn_applied = torch.bmm(attn_weights.unsqueeze(0),\n",
    "                                 encoder_outputs.unsqueeze(0))\n",
    "\n",
    "        output = torch.cat((embedded[0], attn_applied[0]), 1)\n",
    "        output = self.attn_combine(output).unsqueeze(0)\n",
    "\n",
    "        output = F.relu(output)\n",
    "#         output, hidden = self.rnn(output, hidden)\n",
    "        if rnn in [\"RNN\",\"GRU\"]:\n",
    "            output, hidden = self.rnn(output, hidden)\n",
    "            output = F.log_softmax(self.out(output[0]), dim=1)\n",
    "            return output, hidden, attn_weights\n",
    "        else:\n",
    "            output, (hidden, cell) = self.rnn(output, (hidden, cell))\n",
    "            output = F.log_softmax(self.out(output[0]), dim=1)\n",
    "            return output, (hidden, cell), attn_weights\n",
    "\n",
    "    def initHidden(self):\n",
    "        return torch.zeros(1, 1, self.hidden_size, device=device)"
   ]
  },
  {
   "cell_type": "code",
   "execution_count": 7,
   "metadata": {},
   "outputs": [],
   "source": [
    "def evaluate(encoder, decoder, sentence, max_length=max_len):\n",
    "    with torch.no_grad():\n",
    "        input_tensor = get_encoderinput([sentence])[0]\n",
    "        input_length = input_tensor.size()[0]\n",
    "        encoder_hidden = encoder.initHidden()\n",
    "        if rnn not in [\"RNN\",\"GRU\"]:\n",
    "            encoder_cell = encoder.initHidden()\n",
    "            \n",
    "        encoder_outputs = torch.zeros(max_length, encoder.hidden_size, device=device)\n",
    "\n",
    "        for ei in range(input_length):\n",
    "#             encoder_output, encoder_hidden = encoder(input_tensor[ei],\n",
    "#                                                      encoder_hidden)\n",
    "            if rnn in [\"RNN\",\"GRU\"]:\n",
    "                encoder_output, encoder_hidden = encoder(\n",
    "                    input_tensor[ei], encoder_hidden)\n",
    "            else:\n",
    "                encoder_output, (encoder_hidden,encoder_cell) = encoder(\n",
    "                    input_tensor[ei], encoder_hidden, cell=encoder_cell)\n",
    "            encoder_outputs[ei] += encoder_output[0, 0]\n",
    "\n",
    "        decoder_input = torch.tensor([[dec_vocab[\"<SOS>\"]]], device=device)  # SOS\n",
    "\n",
    "        decoder_hidden = encoder_hidden\n",
    "        if rnn not in [\"RNN\",\"GRU\"]:\n",
    "            decoder_cell = encoder_cell\n",
    "\n",
    "        decoded_words = []\n",
    "        decoder_attentions = torch.zeros(max_length, max_length)\n",
    "\n",
    "        for di in range(max_length):\n",
    "            if rnn in [\"RNN\",\"GRU\"]:\n",
    "#                 decoder_output, decoder_hidden = decoder(\n",
    "#                     decoder_input, decoder_hidden)\n",
    "                decoder_output, decoder_hidden, decoder_attention = decoder(\n",
    "                    decoder_input, decoder_hidden, encoder_outputs)\n",
    "            else:\n",
    "#                 decoder_output, (decoder_hidden, decoder_cell) = decoder(\n",
    "#                     decoder_input, decoder_hidden, cell=decoder_cell)\n",
    "                decoder_output, (decoder_hidden, decoder_cell), decoder_attention = decoder(\n",
    "                    decoder_input, decoder_hidden, encoder_outputs, cell=decoder_cell)\n",
    "    \n",
    "            decoder_attentions[di] = decoder_attention.data\n",
    "            topv, topi = decoder_output.data.topk(1)\n",
    "            if topi.item() == dec_vocab[\"<EOS>\"]:\n",
    "                #decoded_words.append('<EOS>')\n",
    "                break\n",
    "            else:\n",
    "                decoded_words.append(inv_vocab[topi.item()])\n",
    "\n",
    "            decoder_input = topi.squeeze().detach()\n",
    "        if len(decoded_words)==0:\n",
    "            return \"i am not sure\".split()\n",
    "        return decoded_words #, decoder_attentions[:di + 1]"
   ]
  },
  {
   "cell_type": "code",
   "execution_count": null,
   "metadata": {},
   "outputs": [],
   "source": []
  },
  {
   "cell_type": "code",
   "execution_count": 9,
   "metadata": {},
   "outputs": [
    {
     "name": "stdout",
     "output_type": "stream",
     "text": [
      "\u001b[1m\u001b[34mNEO:\n",
      "I am Neo. If you want to exit, type ciao\u001b[0m\n",
      "\u001b[1m\u001b[31m\n",
      "YOU:\u001b[0m\n"
     ]
    },
    {
     "name": "stdin",
     "output_type": "stream",
     "text": [
      " hi\n"
     ]
    },
    {
     "name": "stdout",
     "output_type": "stream",
     "text": [
      "\u001b[1m\u001b[34m\n",
      "NEO:\u001b[0m\n",
      "\u001b[34mProgrammer sure we although\u001b[0m\n",
      "\u001b[1m\u001b[31m\n",
      "YOU:\u001b[0m\n"
     ]
    },
    {
     "name": "stdin",
     "output_type": "stream",
     "text": [
      " hello\n"
     ]
    },
    {
     "name": "stdout",
     "output_type": "stream",
     "text": [
      "\u001b[1m\u001b[34m\n",
      "NEO:\u001b[0m\n",
      "\u001b[34mRules\u001b[0m\n",
      "\u001b[1m\u001b[31m\n",
      "YOU:\u001b[0m\n"
     ]
    },
    {
     "name": "stdin",
     "output_type": "stream",
     "text": [
      " ciao\n"
     ]
    },
    {
     "name": "stdout",
     "output_type": "stream",
     "text": [
      "\u001b[1m\u001b[34m\n",
      "NEO: Bye! take care..\u001b[0m\n"
     ]
    }
   ],
   "source": [
    "from termcolor import colored\n",
    "\n",
    "rnn = \"LSTM\"\n",
    "encoder1 = EncoderRNN(VOCAB_SIZE, hidden_size).to(device)\n",
    "attn_decoder1 = AttnDecoderRNN(hidden_size, DEC_VOCAB_SIZE).to(device)\n",
    "checkpoint = torch.load(f\"checkpoint_file_att{rnn}\")\n",
    "encoder1.load_state_dict(checkpoint['encoder'])\n",
    "attn_decoder1.load_state_dict(checkpoint['decoder'])\n",
    "\n",
    "#Response Fetching\n",
    "flag=True\n",
    "print(colored(\"NEO:\\nI am Neo. If you want to exit, type ciao\",'blue',attrs=['bold']))\n",
    "while(flag==True):\n",
    "    print(colored(\"\\nYOU:\",'red',attrs=['bold']))\n",
    "    u_input = input()\n",
    "    if(u_input!='ciao'):\n",
    "        print(colored(\"\\nNEO:\",'blue',attrs=['bold']))\n",
    "        sentence = mysplit(u_input)\n",
    "        decoded_translation = evaluate(encoder1, attn_decoder1, sentence)\n",
    "        decoded_sentence = \" \".join(decoded_translation)\n",
    "        print(colored(decoded_sentence.strip().capitalize(),'blue'))\n",
    "    else:\n",
    "        flag=False\n",
    "        print(colored(\"\\nNEO: Bye! take care..\",'blue', attrs=['bold']))"
   ]
  },
  {
   "cell_type": "code",
   "execution_count": null,
   "metadata": {},
   "outputs": [],
   "source": []
  }
 ],
 "metadata": {
  "kernelspec": {
   "display_name": "Python 3",
   "language": "python",
   "name": "python3"
  },
  "language_info": {
   "codemirror_mode": {
    "name": "ipython",
    "version": 3
   },
   "file_extension": ".py",
   "mimetype": "text/x-python",
   "name": "python",
   "nbconvert_exporter": "python",
   "pygments_lexer": "ipython3",
   "version": "3.6.9"
  }
 },
 "nbformat": 4,
 "nbformat_minor": 4
}
